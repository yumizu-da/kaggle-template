{
 "cells": [
  {
   "cell_type": "code",
   "execution_count": null,
   "metadata": {},
   "outputs": [],
   "source": [
    "%pip install /kaggle/input/eedi-deps/*.whl \\\n",
    "    --force-reinstall --root-user-action ignore --no-deps --no-index \\\n",
    "    --find-links /kaggle/input/cmi-deps\n",
    "\n",
    "%pip install /kaggle/input/eedi-deps/*.tar.gz \\\n",
    "    --force-reinstall --root-user-action ignore --no-deps --no-index \\\n",
    "    --find-links /kaggle/input/cmi-deps\n"
   ]
  },
  {
   "cell_type": "code",
   "execution_count": null,
   "metadata": {},
   "outputs": [],
   "source": [
    "!PYTHONPATH=/kaggle/input/eedi-codes \\\n",
    "python \"/kaggle/input/eedi-codes/001/run.py\"\n"
   ]
  }
 ],
 "metadata": {
  "kernelspec": {
   "display_name": "base",
   "language": "python",
   "name": "python3"
  },
  "language_info": {
   "name": "python",
   "version": "3.10.13"
  }
 },
 "nbformat": 4,
 "nbformat_minor": 2
}
